{
 "cells": [
  {
   "cell_type": "code",
   "execution_count": 6,
   "metadata": {},
   "outputs": [
    {
     "name": "stdout",
     "output_type": "stream",
     "text": [
      "Sentiment(polarity=0.0, subjectivity=0.0)\n"
     ]
    },
    {
     "data": {
      "image/png": "[encoded data removed]",
      "text/plain": [
       "<Figure size 720x504 with 1 Axes>"
      ]
     },
     "metadata": {
      "needs_background": "light"
     },
     "output_type": "display_data"
    }
   ],
   "source": [
    "import json\n",
    "from collections import defaultdict\n",
    "from textblob import TextBlob\n",
    "import numpy as np\n",
    "from matplotlib import pyplot as plt\n",
    "stores = [\"macys\"]\n",
    "\n",
    "print(TextBlob(\"Hi!\").sentiment)\n",
    "\n",
    "for i, name in enumerate(stores):\n",
    "    file_name = name+\"_reviews.txt\"\n",
    "    with open(file_name) as f:\n",
    "        reviews = json.load(f)\n",
    "    data = []\n",
    "    sentiment = []\n",
    "    for d in reviews:\n",
    "        #print(d['text'])\n",
    "        if \"backstage\" in d['text']:\n",
    "            text = TextBlob(d['text'])\n",
    "            sentiment.append(float(text.sentiment[0]))\n",
    "    #print(sentiment)\n",
    "    file_name = name+\"_sentiment_on_backstage.txt\"\n",
    "    with open(file_name, 'w') as outfile:\n",
    "        for s in sentiment:\n",
    "            string = str(s) + \"\\n\"\n",
    "            outfile.write(string)\n",
    "   # result = ml.classifiers.classify(model_id, data)\n",
    "   # print(result.body)\n",
    "for i, name in enumerate(stores):\n",
    "    file_name = name+\"_sentiment_on_backstage.txt\"\n",
    "    sentiments = []\n",
    "    with open(file_name) as f:\n",
    "        for line in f:\n",
    "            sentiments.append(float(line))\n",
    "# Creating dataset\n",
    "    a = np.array(sentiments)\n",
    "    # Creating histogram\n",
    "    fig, ax = plt.subplots(figsize =(10, 7))\n",
    "    ax.hist(a, bins = [-0.9,-0.8,-0.7,-0.6,-0.5,-0.4,-0.3,-0.2,-0.1,0.0, 0.1, 0.3, 0.4, 0.5, 0.6, 0.7, 0.8, 0.9])\n",
    "    plt.title(stores[i])\n",
    "    plt.show()"
   ]
  },
  {
   "cell_type": "code",
   "execution_count": null,
   "metadata": {},
   "outputs": [],
   "source": []
  }
 ],
 "metadata": {
  "kernelspec": {
   "display_name": "Python 3",
   "language": "python",
   "name": "python3"
  },
  "language_info": {
   "codemirror_mode": {
    "name": "ipython",
    "version": 3
   },
   "file_extension": ".py",
   "mimetype": "text/x-python",
   "name": "python",
   "nbconvert_exporter": "python",
   "pygments_lexer": "ipython3",
   "version": "3.7.1"
  }
 },
 "nbformat": 4,
 "nbformat_minor": 2
}
