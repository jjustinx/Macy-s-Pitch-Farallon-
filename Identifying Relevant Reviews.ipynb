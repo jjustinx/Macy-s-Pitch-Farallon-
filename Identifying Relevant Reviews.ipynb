{
 "cells": [
  {
   "cell_type": "code",
   "execution_count": 29,
   "metadata": {},
   "outputs": [],
   "source": [
    "import json\n",
    "from collections import defaultdict\n",
    "\n",
    "#stores = [\"macys\",\"neimanmarcus\",\"gap\",\"dillards\",\"jcpenney\",\"kohls\",\"nordstrom\",\"target\",\"tjmaxx\", \"bluemercury\",\"sephora\",\"ulta\",\"kiehls\",\"aesop\",\"lush\"]\n",
    "stores = [\"origins\"]\n",
    "Dict = defaultdict(list)\n",
    "\n",
    "for i, name in enumerate(stores):\n",
    "    file_name = name+\".txt\"\n",
    "    #print(file_name)\n",
    "    with open(file_name) as f:\n",
    "        data = json.load(f)\n",
    "        #print(data[0])\n",
    "    for store in data:\n",
    "        Dict[stores[i]].append(store['business_id']) #gets the business id associated with this\n",
    "#print(Dict)\n",
    "\n"
   ]
  },
  {
   "cell_type": "code",
   "execution_count": 30,
   "metadata": {},
   "outputs": [
    {
     "name": "stdout",
     "output_type": "stream",
     "text": [
      "1000000\n",
      "2000000\n",
      "3000000\n",
      "4000000\n",
      "5000000\n",
      "6000000\n",
      "7000000\n",
      "8000000\n"
     ]
    }
   ],
   "source": [
    "import json\n",
    "from collections import defaultdict\n",
    "data = []\n",
    "Dict_reviews = defaultdict(list)\n",
    "count = 0\n",
    "with open('yelp_dataset/yelp_academic_dataset_review.json') as f:\n",
    "    for line in f:\n",
    "        d = json.loads(line)\n",
    "        count = count + 1\n",
    "        if count % 1000000 == 0:\n",
    "            print(count)\n",
    "        b_id = d['business_id']\n",
    "        get_out = False\n",
    "        for i,name in enumerate(stores):\n",
    "            for business_id in Dict[stores[i]]:\n",
    "                if b_id == business_id:\n",
    "                    Dict_reviews[stores[i]].append(d)\n",
    "                    #print(d)\n",
    "                    get_out = True\n",
    "                    break\n",
    "            if get_out == True:\n",
    "                break\n"
   ]
  },
  {
   "cell_type": "code",
   "execution_count": 31,
   "metadata": {},
   "outputs": [],
   "source": [
    "for i, name in enumerate(stores):\n",
    "    file_name = name+\"_reviews.txt\"\n",
    "    with open(file_name, 'w') as outfile:\n",
    "        json.dump(Dict_reviews[stores[i]], outfile)"
   ]
  },
  {
   "cell_type": "code",
   "execution_count": null,
   "metadata": {},
   "outputs": [],
   "source": []
  }
 ],
 "metadata": {
  "kernelspec": {
   "display_name": "Python 3",
   "language": "python",
   "name": "python3"
  },
  "language_info": {
   "codemirror_mode": {
    "name": "ipython",
    "version": 3
   },
   "file_extension": ".py",
   "mimetype": "text/x-python",
   "name": "python",
   "nbconvert_exporter": "python",
   "pygments_lexer": "ipython3",
   "version": "3.7.1"
  }
 },
 "nbformat": 4,
 "nbformat_minor": 2
}
